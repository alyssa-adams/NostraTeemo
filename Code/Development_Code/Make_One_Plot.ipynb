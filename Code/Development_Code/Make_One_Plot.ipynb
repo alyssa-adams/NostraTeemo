{
 "cells": [
  {
   "cell_type": "code",
   "execution_count": 1,
   "metadata": {
    "collapsed": true
   },
   "outputs": [],
   "source": [
    "import pandas as pd\n",
    "import matplotlib.pyplot as plt  # import matplotlib's pythonic interface\n",
    "import seaborn.apionly as sns    # import seaborn's functions, but not its style changes\n",
    "\n",
    "plt.style.use('ggplot')          # set matplotlib's style and color palette to ggplot style\n",
    "sns.set_style('ticks')           # set seaborn style to not use background grids\n",
    "\n",
    "# tell the notebook to render plots inline\n",
    "%matplotlib inline"
   ]
  },
  {
   "cell_type": "code",
   "execution_count": 2,
   "metadata": {
    "collapsed": false
   },
   "outputs": [
    {
     "data": {
      "text/plain": [
       "['Width3AttractorStats_Iso_FINAL.csv',\n",
       " 'Width4AttractorStats_Iso_FINAL.csv',\n",
       " 'Width5AttractorStats_Iso_FINAL.csv',\n",
       " 'Width6AttractorStats_Iso_FINAL.csv',\n",
       " 'Width7AttractorStats_Iso_FINAL.csv',\n",
       " 'Width8AttractorStats_Iso_FINAL.csv']"
      ]
     },
     "execution_count": 2,
     "metadata": {},
     "output_type": "execute_result"
    }
   ],
   "source": [
    "# this module lets us select filenames with globbing patterns, such a wildcards\n",
    "import glob\n",
    "\n",
    "files = glob.glob('*Iso_FINAL.csv')\n",
    "files.sort()\n",
    "\n",
    "files"
   ]
  },
  {
   "cell_type": "code",
   "execution_count": 3,
   "metadata": {
    "collapsed": false
   },
   "outputs": [],
   "source": [
    "# read each file into a separate dataframe and add it to a list of them\n",
    "dfs = []\n",
    "for file in files:\n",
    "    dfs.append(pd.read_csv(file))"
   ]
  },
  {
   "cell_type": "code",
   "execution_count": 4,
   "metadata": {
    "collapsed": true
   },
   "outputs": [],
   "source": [
    "import os"
   ]
  },
  {
   "cell_type": "code",
   "execution_count": 5,
   "metadata": {
    "collapsed": false
   },
   "outputs": [
    {
     "data": {
      "text/plain": [
       "[3, 4, 5, 6, 7, 8]"
      ]
     },
     "execution_count": 5,
     "metadata": {},
     "output_type": "execute_result"
    }
   ],
   "source": [
    "# get the width number to use for indexing each file\n",
    "filenums = [int(os.path.basename(file).split('A')[0][5:]) for file in files]\n",
    "filenums"
   ]
  },
  {
   "cell_type": "code",
   "execution_count": 15,
   "metadata": {
    "collapsed": false
   },
   "outputs": [],
   "source": [
    "bigdf = pd.concat(dfs, keys=filenums, names=['width'])"
   ]
  },
  {
   "cell_type": "code",
   "execution_count": 20,
   "metadata": {
    "collapsed": false
   },
   "outputs": [
    {
     "data": {
      "image/png": "[encoded data removed]",
      "text/plain": [
       "<matplotlib.figure.Figure at 0x10b599710>"
      ]
     },
     "metadata": {},
     "output_type": "display_data"
    }
   ],
   "source": [
    "bigdf['normed states'] = bigdf['\tstates'] / 256\n",
    "ax = sns.boxplot(data=bigdf.reset_index(), x='width', y='normed states')\n",
    "ax.set_yscale('log')"
   ]
  },
  {
   "cell_type": "code",
   "execution_count": 21,
   "metadata": {
    "collapsed": false
   },
   "outputs": [
    {
     "data": {
      "image/png": "[encoded data removed]",
      "text/plain": [
       "<matplotlib.figure.Figure at 0x10c41a828>"
      ]
     },
     "metadata": {},
     "output_type": "display_data"
    }
   ],
   "source": [
    "sns.set_palette(\"Blues\")\n",
    "\n",
    "bigdf['log(normed states)'] = pd.np.log10(bigdf['normed states'])\n",
    "ax = sns.boxplot(data=bigdf.reset_index(), x='width', y='normed states')\n",
    "\n",
    "plt.plot([-3, 8.5],[0,0],'k-',lw=1)\n",
    "\n",
    "# let's add some axes labels to boot\n",
    "ax.set_ylabel(r'log$(\\frac{s}{S})$')\n",
    "ax.set_xlabel('Width')\n",
    "sns.despine(offset=10, ax=ax)\n",
    "\n",
    "sns.plt.tight_layout()"
   ]
  },
  {
   "cell_type": "code",
   "execution_count": 22,
   "metadata": {
    "collapsed": true
   },
   "outputs": [],
   "source": [
    "ax.figure.savefig('visited_states_iso.pdf')"
   ]
  },
  {
   "cell_type": "code",
   "execution_count": null,
   "metadata": {
    "collapsed": true
   },
   "outputs": [],
   "source": []
  }
 ],
 "metadata": {
  "kernelspec": {
   "display_name": "Python 3",
   "language": "python",
   "name": "python3"
  },
  "language_info": {
   "codemirror_mode": {
    "name": "ipython",
    "version": 3
   },
   "file_extension": ".py",
   "mimetype": "text/x-python",
   "name": "python",
   "nbconvert_exporter": "python",
   "pygments_lexer": "ipython3",
   "version": "3.5.1"
  }
 },
 "nbformat": 4,
 "nbformat_minor": 0
}
